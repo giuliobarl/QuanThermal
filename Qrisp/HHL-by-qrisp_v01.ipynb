{
 "cells": [
  {
   "cell_type": "markdown",
   "id": "12c73533",
   "metadata": {},
   "source": [
    "## HHL by Qrisp for solving linear system of equations"
   ]
  },
  {
   "cell_type": "code",
   "execution_count": 1,
   "id": "c8d10bb6",
   "metadata": {},
   "outputs": [],
   "source": [
    "import jax\n",
    "import qrisp"
   ]
  },
  {
   "cell_type": "code",
   "execution_count": 2,
   "id": "b1ee472c",
   "metadata": {},
   "outputs": [],
   "source": [
    "def QPE(psi, U, precision=None, res=None):\n",
    "\n",
    "    if res is None:\n",
    "        res = qrisp.QuantumFloat(precision, -precision)\n",
    "\n",
    "    qrisp.h(res)\n",
    "\n",
    "    # Performs a loop with a dynamic bound in Jasp mode.\n",
    "    for i in qrisp.jrange(res.size):\n",
    "        with qrisp.control(res[i]):\n",
    "            for j in qrisp.jrange(2**i):\n",
    "                U(psi)\n",
    "\n",
    "    return qrisp.QFT(res, inv=True)"
   ]
  },
  {
   "cell_type": "code",
   "execution_count": 3,
   "id": "b7b0dbaa",
   "metadata": {},
   "outputs": [],
   "source": [
    "import numpy as np\n",
    "\n",
    "def U(psi):\n",
    "    phi_1 = 0.5\n",
    "    phi_2 = 0.125\n",
    "\n",
    "    qrisp.p(phi_1 * 2 * np.pi, psi[0])  # p applies a phase gate\n",
    "    qrisp.p(phi_2 * 2 * np.pi, psi[1])\n",
    "\n",
    "psi = qrisp.QuantumFloat(2)\n",
    "qrisp.h(psi)\n",
    "\n",
    "res = QPE(psi, U, precision=3)"
   ]
  },
  {
   "cell_type": "code",
   "execution_count": 4,
   "id": "60621f6a",
   "metadata": {},
   "outputs": [
    {
     "name": "stdout",
     "output_type": "stream",
     "text": [
      "{(0, 0.0): 0.25, (1, 0.5): 0.25, (2, 0.125): 0.25, (3, 0.625): 0.25}                 \u001b[2K\n"
     ]
    }
   ],
   "source": [
    "print(qrisp.multi_measurement([psi, res]))"
   ]
  },
  {
   "cell_type": "code",
   "execution_count": 5,
   "id": "943287b8",
   "metadata": {},
   "outputs": [
    {
     "name": "stdout",
     "output_type": "stream",
     "text": [
      "                                                                                     \u001b[2K\r"
     ]
    },
    {
     "data": {
      "text/plain": [
       "{0.625: 1.0}"
      ]
     },
     "execution_count": 5,
     "metadata": {},
     "output_type": "execute_result"
    }
   ],
   "source": [
    "@qrisp.terminal_sampling\n",
    "def main():\n",
    "    qf = qrisp.QuantumFloat(2)\n",
    "    qf[:] = 3\n",
    "\n",
    "    res = QPE(qf, U, precision=3)\n",
    "\n",
    "    return res\n",
    "\n",
    "main()"
   ]
  },
  {
   "cell_type": "markdown",
   "id": "2f66f9a2",
   "metadata": {},
   "source": [
    "## The HHL algorithm"
   ]
  },
  {
   "cell_type": "code",
   "execution_count": 6,
   "id": "e3c0a48d",
   "metadata": {},
   "outputs": [],
   "source": [
    "def fake_inversion(qf, res=None):\n",
    "\n",
    "    if res is None:\n",
    "        res = qrisp.QuantumFloat(qf.size + 1)\n",
    "\n",
    "    for i in qrisp.jrange(qf.size):\n",
    "        qrisp.cx(qf[i], res[qf.size - i])\n",
    "\n",
    "    return res"
   ]
  },
  {
   "cell_type": "code",
   "execution_count": 7,
   "id": "e93f95b9",
   "metadata": {},
   "outputs": [
    {
     "name": "stdout",
     "output_type": "stream",
     "text": [
      "{(0.125, 8): 0.3333333333333333, (0.25, 4): 0.3333333333333333, (0.5, 2): 0.3333333333333333}\n"
     ]
    }
   ],
   "source": [
    "qf = qrisp.QuantumFloat(3, -3)\n",
    "qrisp.x(qf[2])\n",
    "qrisp.dicke_state(qf, 1)\n",
    "res = fake_inversion(qf)\n",
    "print(qrisp.multi_measurement([qf, res]))"
   ]
  },
  {
   "cell_type": "code",
   "execution_count": 8,
   "id": "db57115d",
   "metadata": {},
   "outputs": [],
   "source": [
    "@qrisp.RUS(static_argnums=[0, 1])\n",
    "def HHL_encoding(b, hamiltonian_evolution, n, precision):\n",
    "\n",
    "    # Prepare the state |b>. Step 1\n",
    "    qf = qrisp.QuantumFloat(n)\n",
    "    # Reverse the endianness for compatibility with Hamiltonian simulation.\n",
    "    qrisp.prepare(qf, b, reversed=True)\n",
    "\n",
    "    qpe_res = QPE(qf, hamiltonian_evolution, precision=precision)  # Step 2\n",
    "    inv_res = fake_inversion(qpe_res)  # Step 3\n",
    "\n",
    "    case_indicator = qrisp.QuantumFloat(inv_res.size)\n",
    "\n",
    "    with qrisp.conjugate(qrisp.h)(case_indicator):\n",
    "        qbl = (case_indicator >= inv_res)\n",
    "\n",
    "    cancellation_bool = (qrisp.measure(case_indicator) == 0) & (qrisp.measure(qbl) == 0)\n",
    "\n",
    "    # The first return value is a boolean value. Additional return values are QuantumVariables.\n",
    "    return cancellation_bool, qf, qpe_res, inv_res"
   ]
  },
  {
   "cell_type": "code",
   "execution_count": 9,
   "id": "1c80121b",
   "metadata": {},
   "outputs": [],
   "source": [
    "def HHL(b, hamiltonian_evolution, n, precision):\n",
    "\n",
    "    qf, qpe_res, inv_res = HHL_encoding(b, hamiltonian_evolution, n, precision)\n",
    "\n",
    "    # Uncompute qpe_res and inv_res\n",
    "    with qrisp.invert():\n",
    "        QPE(qf, hamiltonian_evolution, res=qpe_res)\n",
    "        fake_inversion(qpe_res, res=inv_res)\n",
    "\n",
    "    # Reverse the endianness for compatibility with Hamiltonian simulation.\n",
    "    for i in qrisp.jrange(qf.size // 2):\n",
    "        qrisp.swap(qf[i], qf[n - i - 1])\n",
    "\n",
    "    return qf"
   ]
  },
  {
   "cell_type": "code",
   "execution_count": 10,
   "id": "4e1ce55d",
   "metadata": {},
   "outputs": [],
   "source": [
    "from qrisp.operators import QubitOperator\n",
    "import numpy as np\n",
    "\n",
    "A = np.array([[3 / 8, 1 / 8], [1 / 8, 3 / 8]])\n",
    "b = np.array([1, 1])\n",
    "\n",
    "H = QubitOperator.from_matrix(A).to_pauli()\n",
    "\n",
    "\n",
    "# By default e^{-itH} is performed. Therefore, we set t=-pi.\n",
    "def U(qf):\n",
    "    H.trotterization()(qf, t=-np.pi, steps=1)"
   ]
  },
  {
   "cell_type": "code",
   "execution_count": 11,
   "id": "db8835f2",
   "metadata": {},
   "outputs": [
    {
     "name": "stdout",
     "output_type": "stream",
     "text": [
      "Simulating 1 qubits.. |                                                      | [  0%]"
     ]
    },
    {
     "name": "stdout",
     "output_type": "stream",
     "text": [
      "{0.0: 0.7071068022600167, 1.0: 0.7071067601130777}                                   \u001b[2K\u001b[2K\n"
     ]
    }
   ],
   "source": [
    "@qrisp.terminal_sampling\n",
    "def main():\n",
    "    x = HHL(tuple(b), U, 1, 3)\n",
    "    return x\n",
    "\n",
    "\n",
    "res_dict = main()\n",
    "\n",
    "for k, v in res_dict.items():\n",
    "    res_dict[k] = v**0.5\n",
    "\n",
    "print(res_dict)"
   ]
  },
  {
   "cell_type": "code",
   "execution_count": 12,
   "id": "8f2e1e85",
   "metadata": {},
   "outputs": [
    {
     "name": "stdout",
     "output_type": "stream",
     "text": [
      "[0.70710678 0.70710678]\n"
     ]
    }
   ],
   "source": [
    "x = (np.linalg.inv(A) @ b) / np.linalg.norm(np.linalg.inv(A) @ b)\n",
    "print(x)"
   ]
  },
  {
   "cell_type": "markdown",
   "id": "d4693261",
   "metadata": {},
   "source": [
    "## Advanced example"
   ]
  },
  {
   "cell_type": "code",
   "execution_count": 13,
   "id": "6a77310d",
   "metadata": {},
   "outputs": [
    {
     "name": "stdout",
     "output_type": "stream",
     "text": [
      "Hermitian matrix A:\n",
      "[[ 0.17579138 -0.0152622  -0.01617484  0.02232296  0.04269751  0.08323922\n",
      "   0.01624733  0.04489905]\n",
      " [-0.0152622   0.22703081  0.0214731   0.00493727 -0.02837213 -0.00087943\n",
      "   0.00881697  0.0318943 ]\n",
      " [-0.01617484  0.0214731   0.18005377  0.05823654  0.01611289 -0.08820297\n",
      "  -0.00063391  0.01997325]\n",
      " [ 0.02232296  0.00493727  0.05823654  0.30964127  0.05773026  0.01905031\n",
      "  -0.06665161  0.07976392]\n",
      " [ 0.04269751 -0.02837213  0.01611289  0.05773026  0.19888827 -0.00341997\n",
      "  -0.01443905  0.08619575]\n",
      " [ 0.08323922 -0.00087943 -0.08820297  0.01905031 -0.00341997  0.44944918\n",
      "   0.01656659 -0.00167413]\n",
      " [ 0.01624733  0.00881697 -0.00063391 -0.06665161 -0.01443905  0.01656659\n",
      "   0.2695831  -0.08096163]\n",
      " [ 0.04489905  0.0318943   0.01997325  0.07976392  0.08619575 -0.00167413\n",
      "  -0.08096163  0.31456221]]\n",
      "Eigenvalues:\n",
      "[0.125 0.25  0.5   0.5   0.125 0.125 0.25  0.25 ]\n",
      "b:\n",
      "[0 1 0 1 0 1 1 1]\n"
     ]
    }
   ],
   "source": [
    "def hermitian_matrix_with_power_of_2_eigenvalues(n):\n",
    "    # Generate eigenvalues as inverse powers of 2.\n",
    "    eigenvalues = 1 / np.exp2(np.random.randint(1, 4, size=n))\n",
    "\n",
    "    # Generate a random unitary matrix.\n",
    "    Q, _ = np.linalg.qr(np.random.randn(n, n))\n",
    "\n",
    "    # Construct the Hermitian matrix.\n",
    "    A = Q @ np.diag(eigenvalues) @ Q.conj().T\n",
    "\n",
    "    return A\n",
    "\n",
    "\n",
    "# Example\n",
    "n = 3\n",
    "A = hermitian_matrix_with_power_of_2_eigenvalues(2**n)\n",
    "\n",
    "H = QubitOperator.from_matrix(A).to_pauli()\n",
    "\n",
    "\n",
    "def U(qf):\n",
    "    H.trotterization()(qf, t=-np.pi, steps=5)\n",
    "\n",
    "\n",
    "b = np.random.randint(0, 2, size=2**n)\n",
    "\n",
    "print(\"Hermitian matrix A:\")\n",
    "print(A)\n",
    "\n",
    "print(\"Eigenvalues:\")\n",
    "print(np.linalg.eigvals(A))\n",
    "\n",
    "print(\"b:\")\n",
    "print(b)"
   ]
  },
  {
   "cell_type": "code",
   "execution_count": 14,
   "id": "fa0c65b6",
   "metadata": {},
   "outputs": [
    {
     "name": "stdout",
     "output_type": "stream",
     "text": [
      "                                                                                     \u001b[2K\u001b[2K\r"
     ]
    }
   ],
   "source": [
    "@qrisp.terminal_sampling\n",
    "def main():\n",
    "    x = HHL(tuple(b), U, n, 4)\n",
    "    return x\n",
    "\n",
    "res_dict = main()\n",
    "\n",
    "for k, v in res_dict.items():\n",
    "    res_dict[k] = v**0.5\n",
    "\n",
    "computed = np.array([res_dict[key] for key in sorted(res_dict)])"
   ]
  },
  {
   "cell_type": "code",
   "execution_count": 15,
   "id": "21d8f2a4",
   "metadata": {},
   "outputs": [
    {
     "name": "stdout",
     "output_type": "stream",
     "text": [
      "[0.2699076  0.34497583 0.1230823  0.40673639 0.14374125 0.22348805\n",
      " 0.60397114 0.43836997]\n"
     ]
    }
   ],
   "source": [
    "print(computed)"
   ]
  },
  {
   "cell_type": "code",
   "execution_count": 16,
   "id": "8d3eae6f",
   "metadata": {},
   "outputs": [
    {
     "name": "stdout",
     "output_type": "stream",
     "text": [
      "[-0.2709178   0.34487552 -0.12211068  0.40642685 -0.14290287  0.22149382\n",
      "  0.60502874  0.43821239]\n"
     ]
    }
   ],
   "source": [
    "x = (np.linalg.inv(A) @ b) / np.linalg.norm(np.linalg.inv(A) @ b)\n",
    "print(x)"
   ]
  },
  {
   "cell_type": "code",
   "execution_count": 17,
   "id": "2ea559a4",
   "metadata": {},
   "outputs": [
    {
     "data": {
      "image/png": "[encoded data removed]",
      "text/plain": [
       "<Figure size 640x480 with 1 Axes>"
      ]
     },
     "metadata": {},
     "output_type": "display_data"
    }
   ],
   "source": [
    "import matplotlib.pyplot as plt\n",
    "\n",
    "plt.plot(computed, label='quantum')\n",
    "plt.plot(x, label='classical')\n",
    "plt.legend()\n",
    "plt.show()"
   ]
  },
  {
   "cell_type": "markdown",
   "id": "10584caf",
   "metadata": {},
   "source": [
    "## My example"
   ]
  },
  {
   "cell_type": "code",
   "execution_count": 18,
   "id": "70ab6c8f",
   "metadata": {},
   "outputs": [
    {
     "name": "stdout",
     "output_type": "stream",
     "text": [
      "[1.35355339 1.5        1.35355339 1.         0.64644661 0.5\n",
      " 0.64644661 1.        ]\n",
      "[[ 2.  -0.5  0.   0.   0.   0.   0.  -0.5]\n",
      " [-0.5  2.  -0.5  0.   0.   0.   0.   0. ]\n",
      " [ 0.  -0.5  2.  -0.5  0.   0.   0.   0. ]\n",
      " [ 0.   0.  -0.5  2.  -0.5  0.   0.   0. ]\n",
      " [ 0.   0.   0.  -0.5  2.  -0.5  0.   0. ]\n",
      " [ 0.   0.   0.   0.  -0.5  2.  -0.5  0. ]\n",
      " [ 0.   0.   0.   0.   0.  -0.5  2.  -0.5]\n",
      " [-0.5  0.   0.   0.   0.   0.  -0.5  2. ]]\n",
      "[1.27345908 1.38672954 1.27345908 1.         0.72654092 0.61327046\n",
      " 0.72654092 1.        ]\n"
     ]
    }
   ],
   "source": [
    "import numpy as np\n",
    "from scipy.sparse import diags\n",
    "from scipy.sparse.linalg import spsolve\n",
    "from scipy.linalg import inv, norm\n",
    "\n",
    "n = 3 # number of qubits, num_qubits\n",
    "N = pow(2,n) # number of mesh nodes\n",
    "\n",
    "# T_old\n",
    "T_old = np.ones(N)\n",
    "for i in range(N):\n",
    "    T_old[i] = 1 + (1/2)*np.sin(2*np.pi*(i+1)/N)\n",
    "print(T_old)\n",
    "\n",
    "# Linear system C*T_new = T_old\n",
    "# T_new = inv(C)*T_old\n",
    "r = 0.5 # = delta_t*alpha/(delta_x**2) = Fo, Fourier number \n",
    "d = np.ones(N)*(1+2*r)\n",
    "od = np.ones(N-1)*(-r)\n",
    "C = np.diag(d, 0) + np.diag(od, -1) + np.diag(od, 1)\n",
    "C[0,N-1] = -r\n",
    "C[N-1,0] = -r\n",
    "print(C)\n",
    "\n",
    "# T_new\n",
    "T_new = inv(C) @ T_old\n",
    "print(T_new)"
   ]
  },
  {
   "cell_type": "code",
   "execution_count": 19,
   "id": "d913c39a",
   "metadata": {},
   "outputs": [
    {
     "name": "stdout",
     "output_type": "stream",
     "text": [
      "3.0\n",
      "[0.45118446 0.5        0.45118446 0.33333333 0.2154822  0.16666667\n",
      " 0.2154822  0.33333333]\n",
      "1.0\n",
      "[0.43429041 0.47291927 0.43429041 0.34103209 0.24777377 0.20914491\n",
      " 0.24777377 0.34103209]\n",
      "0.9999999999999999\n",
      "[0.00000000e+00 0.00000000e+00 0.00000000e+00 0.00000000e+00\n",
      " 0.00000000e+00 0.00000000e+00 0.00000000e+00 1.11022302e-16]\n",
      "[0. 0. 0. 0. 0. 0. 0. 0.]\n",
      "[-6.66133815e-16  2.22044605e-16  0.00000000e+00  0.00000000e+00\n",
      " -2.22044605e-16 -1.11022302e-16  1.11022302e-16 -1.11022302e-16]\n",
      "[-2.77555756e-16  1.11022302e-16 -5.55111512e-17  1.11022302e-16\n",
      " -5.55111512e-17 -5.55111512e-17 -2.77555756e-17 -5.55111512e-17]\n"
     ]
    }
   ],
   "source": [
    "# T_old\n",
    "TT_old = np.sum(T_old**2)\n",
    "b0 = np.sqrt(TT_old)\n",
    "print(b0)\n",
    "b = T_old/b0\n",
    "print(b)\n",
    "print(sum(b**2)) # (normalized)\n",
    "\n",
    "# T_new\n",
    "TT_new = np.sum(T_new**2)\n",
    "x0 = np.sqrt(TT_new)\n",
    "x_th = T_new/x0 # (theoretical)\n",
    "print(x_th)\n",
    "print(sum(x_th**2)) # (normalized)\n",
    "\n",
    "# Linear system (normalized)\n",
    "f = np.sqrt(TT_new/TT_old) \n",
    "A = C*f # (normalized)\n",
    "\n",
    "# Check\n",
    "print(b * b0 - T_old) # normalized linear system\n",
    "print(x_th * x0 - T_new) # back to original units\n",
    "print(C @ T_new - T_old) # original system\n",
    "print( A @ x_th - b ) # normalized system for quantum computing"
   ]
  },
  {
   "cell_type": "code",
   "execution_count": 20,
   "id": "1ba27fa5",
   "metadata": {},
   "outputs": [
    {
     "name": "stdout",
     "output_type": "stream",
     "text": [
      "Hermitian matrix A:\n",
      "[[ 1.95485026 -0.48871256  0.          0.          0.          0.\n",
      "   0.         -0.48871256]\n",
      " [-0.48871256  1.95485026 -0.48871256  0.          0.          0.\n",
      "   0.          0.        ]\n",
      " [ 0.         -0.48871256  1.95485026 -0.48871256  0.          0.\n",
      "   0.          0.        ]\n",
      " [ 0.          0.         -0.48871256  1.95485026 -0.48871256  0.\n",
      "   0.          0.        ]\n",
      " [ 0.          0.          0.         -0.48871256  1.95485026 -0.48871256\n",
      "   0.          0.        ]\n",
      " [ 0.          0.          0.          0.         -0.48871256  1.95485026\n",
      "  -0.48871256  0.        ]\n",
      " [ 0.          0.          0.          0.          0.         -0.48871256\n",
      "   1.95485026 -0.48871256]\n",
      " [-0.48871256  0.          0.          0.          0.          0.\n",
      "  -0.48871256  1.95485026]]\n",
      "Eigenvalues:\n",
      "[2.93227539 2.6459942  1.95485026 0.97742513 1.26370632 2.6459942\n",
      " 1.95485026 1.26370632]\n",
      "b:\n",
      "[0.45118446 0.5        0.45118446 0.33333333 0.2154822  0.16666667\n",
      " 0.2154822  0.33333333]\n"
     ]
    }
   ],
   "source": [
    "H = QubitOperator.from_matrix(A).to_pauli()\n",
    "\n",
    "def U(qf):\n",
    "    H.trotterization()(qf, t=-np.pi, steps=5)\n",
    "\n",
    "print(\"Hermitian matrix A:\")\n",
    "print(A)\n",
    "\n",
    "print(\"Eigenvalues:\")\n",
    "print(np.linalg.eigvals(A))\n",
    "\n",
    "print(\"b:\")\n",
    "print(b)"
   ]
  },
  {
   "cell_type": "code",
   "execution_count": 21,
   "id": "a7d7188a",
   "metadata": {},
   "outputs": [
    {
     "name": "stdout",
     "output_type": "stream",
     "text": [
      "                                                                                     \u001b[2K\r"
     ]
    }
   ],
   "source": [
    "@qrisp.terminal_sampling\n",
    "def main():\n",
    "    x = HHL(tuple(b), U, n, 8)\n",
    "    return x\n",
    "\n",
    "res_dict = main()\n",
    "\n",
    "for k, v in res_dict.items():\n",
    "    res_dict[k] = v**0.5\n",
    "\n",
    "computed = np.array([res_dict[key] for key in sorted(res_dict)])"
   ]
  },
  {
   "cell_type": "code",
   "execution_count": 22,
   "id": "eee76d61",
   "metadata": {},
   "outputs": [],
   "source": [
    "import statistics\n",
    "\n",
    "x_mean = statistics.mean(computed)\n",
    "T_mean = statistics.mean(T_old)\n",
    "scale = T_mean/x_mean\n",
    "T_new_q = computed*scale"
   ]
  },
  {
   "cell_type": "code",
   "execution_count": 23,
   "id": "a8eb62d6",
   "metadata": {},
   "outputs": [
    {
     "data": {
      "image/png": "[encoded data removed]",
      "text/plain": [
       "<Figure size 640x480 with 1 Axes>"
      ]
     },
     "metadata": {},
     "output_type": "display_data"
    }
   ],
   "source": [
    "plt.plot(T_old, label='T_old, at t = 0')\n",
    "plt.plot(T_new, label='T_new (FD), at t = delta_t', linestyle='dashed')\n",
    "plt.plot(T_new_q, 'ro', label='T_new_q (HHL quantum), at t = delta_t')\n",
    "plt.legend()\n",
    "plt.xlabel('spatial mesh')\n",
    "plt.ylabel('temperature')\n",
    "plt.show()"
   ]
  }
 ],
 "metadata": {
  "kernelspec": {
   "display_name": "cwq-iqm",
   "language": "python",
   "name": "python3"
  },
  "language_info": {
   "codemirror_mode": {
    "name": "ipython",
    "version": 3
   },
   "file_extension": ".py",
   "mimetype": "text/x-python",
   "name": "python",
   "nbconvert_exporter": "python",
   "pygments_lexer": "ipython3",
   "version": "3.12.9"
  }
 },
 "nbformat": 4,
 "nbformat_minor": 5
}
