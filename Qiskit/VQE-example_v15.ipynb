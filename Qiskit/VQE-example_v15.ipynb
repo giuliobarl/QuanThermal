{
 "cells": [
  {
   "cell_type": "markdown",
   "metadata": {},
   "source": [
    "# Solving the Heat Equation with Quantum Computing\n",
    "This notebook demonstrates how a simple 1D heat equation is solved using:\n",
    "- Classical finite-difference time integration\n",
    "- Normalization and mapping to a quantum problem\n",
    "- Quantum Fourier transform (QFT)\n",
    "- Variational Quantum Eigensolver (VQE)\n",
    "- Final post-processing and de-normalization\n",
    "\n",
    "in the **`Qiskit`** environment."
   ]
  },
  {
   "cell_type": "markdown",
   "metadata": {},
   "source": [
    "## Setup and imports"
   ]
  },
  {
   "cell_type": "code",
   "execution_count": 1,
   "metadata": {},
   "outputs": [],
   "source": [
    "import matplotlib.pyplot as plt\n",
    "import numpy as np\n",
    "from numpy.linalg import eigvalsh\n",
    "from scipy.linalg import dft, inv\n",
    "from scipy.optimize import minimize\n",
    "import statistics\n",
    "import time\n",
    "\n",
    "from qiskit.circuit.library import EfficientSU2\n",
    "from qiskit.primitives import StatevectorEstimator as Estimator\n",
    "from qiskit.primitives import StatevectorSampler as Sampler\n",
    "from qiskit.quantum_info import SparsePauliOp, Statevector\n",
    "from qiskit.visualization import plot_histogram\n"
   ]
  },
  {
   "cell_type": "markdown",
   "metadata": {},
   "source": [
    "# Preliminary steps"
   ]
  },
  {
   "cell_type": "markdown",
   "metadata": {},
   "source": [
    "## Finite-Difference Scheme for Heat Conduction\n",
    "We model the heat diffusion on a 1D spatial mesh with periodic boundary conditions using an implicit finite difference scheme:\n",
    "\n",
    "- The temperature distribution at time $t=0$, $T_{old}$, is initialized using a sinusoidal perturbation.\n",
    "- A matrix C is constructed based on the Fourier number r to represent the linear system.\n",
    "- The new temperature distribution T_new is obtained by solving $C\\cdot T_{new} = T_{old}$.\n",
    "\n",
    "Visualization shows $T_{old}$ vs $T_{new}$."
   ]
  },
  {
   "cell_type": "code",
   "execution_count": 2,
   "metadata": {},
   "outputs": [],
   "source": [
    "n = 3  # number of qubits → number of spatial nodes = 2^n\n",
    "N = 2**n\n",
    "\n",
    "# Initial temperature profile (T_old)\n",
    "T_old = 1 + 0.5 * np.sin(2 * np.pi * (np.arange(N) + 1) / N)\n",
    "\n",
    "# Construct finite-difference matrix C\n",
    "r = 0.5  # Fourier number\n",
    "d = np.ones(N) * (1 + 2*r)\n",
    "od = np.ones(N - 1) * (-r)\n",
    "C = np.diag(d) + np.diag(od, -1) + np.diag(od, 1)\n",
    "C[0, -1] = C[-1, 0] = -r  # periodic BC\n",
    "\n",
    "# Solve implicit update T_new = C⁻¹ * T_old\n",
    "T_new = inv(C) @ T_old"
   ]
  },
  {
   "cell_type": "code",
   "execution_count": null,
   "metadata": {},
   "outputs": [],
   "source": [
    "# Plotting the initial and updated temperature profiles\n",
    "plt.plot(T_old, label='T_old (t=0)')\n",
    "plt.plot(T_new, label='T_new (t=Δt)', linestyle='dashed')\n",
    "plt.legend()\n",
    "plt.xlabel('spatial mesh')\n",
    "plt.ylabel('temperature')\n",
    "plt.show()"
   ]
  },
  {
   "cell_type": "markdown",
   "metadata": {},
   "source": [
    "## Normalization for Quantum Mapping\n",
    "We normalize both $T_{old}$ and $T_{new}$ for compatibility with quantum state amplitudes (unit norm vectors):\n",
    "\n",
    "1. Compute norms $b_0$ and $x_0$.\n",
    "2. Define normalized vectors $b$ and $x_{th}$.\n",
    "3. Construct normalized linear system $A \\cdot x_{th} = b$, which will be used in quantum optimization."
   ]
  },
  {
   "cell_type": "code",
   "execution_count": 4,
   "metadata": {},
   "outputs": [],
   "source": [
    "# Normalize T_old\n",
    "TT_old = np.sum(T_old**2)\n",
    "b0 = np.linalg.norm(T_old)\n",
    "b = T_old / b0\n",
    "\n",
    "# Normalize T_new\n",
    "TT_new = np.sum(T_new**2)\n",
    "x0 = np.linalg.norm(T_new)\n",
    "x_th = T_new / x0\n",
    "\n",
    "# Normalize system matrix: A = f * C\n",
    "f = x0 / b0\n",
    "A = C * f"
   ]
  },
  {
   "cell_type": "code",
   "execution_count": 5,
   "metadata": {},
   "outputs": [],
   "source": [
    "# Check consistency\n",
    "assert np.allclose(b * b0, T_old)\n",
    "assert np.allclose(x_th * x0, T_new)\n",
    "assert np.allclose(C @ T_new, T_old)\n",
    "assert np.allclose(A @ x_th, b)"
   ]
  },
  {
   "cell_type": "code",
   "execution_count": null,
   "metadata": {},
   "outputs": [],
   "source": [
    "# Check\n",
    "print(b * b0 - T_old) # normalized linear system\n",
    "print(x_th * x0 - T_new) # back to original units\n",
    "print(C @ T_new - T_old) # original system\n",
    "print(A @ x_th - b) # normalized system for quantum computing"
   ]
  },
  {
   "cell_type": "code",
   "execution_count": null,
   "metadata": {},
   "outputs": [],
   "source": [
    "plt.plot(b, label='b')\n",
    "plt.plot(x_th, label='x_th', linestyle='dashed')\n",
    "plt.legend()\n",
    "plt.xlabel('spatial mesh')\n",
    "plt.ylabel('normalized temperature')\n",
    "plt.show()"
   ]
  },
  {
   "cell_type": "code",
   "execution_count": null,
   "metadata": {},
   "outputs": [],
   "source": [
    "# PROOF for normalization\n",
    "print( C @ T_new - T_old ) # original system\n",
    "print( (C @ T_new)/(TT_new * TT_old) - T_old/(TT_new * TT_old) )\n",
    "print( (C @ x_th)/(np.sqrt(TT_new) * TT_old) - b/(TT_new * np.sqrt(TT_old)) )\n",
    "print( np.sqrt(TT_new/TT_old) * C @ x_th - b )\n",
    "print( f * C @ x_th - b )\n",
    "print( A @ x_th - b ) # normalized system for quantum computing"
   ]
  },
  {
   "cell_type": "markdown",
   "metadata": {},
   "source": [
    "# Quantum Fourier Transform (QFT)\n",
    "We implement QFT in two equivalent methods:\n",
    "\n",
    "1. Using `numpy.fft.fft` with proper conjugation and scaling.\n",
    "2. Explicit matrix multiplication with the discrete Fourier transform (`scipy.linalg.dft`).\n",
    "\n",
    "This is useful for later transforming observables into the frequency domain."
   ]
  },
  {
   "cell_type": "code",
   "execution_count": 9,
   "metadata": {},
   "outputs": [],
   "source": [
    "# QFT via numpy\n",
    "tildeb = np.conj(np.fft.fft(b) / np.sqrt(N))\n",
    "\n",
    "# QFT via scipy and matrix multiplication\n",
    "mydft = np.conj(dft(N) / np.sqrt(N))\n",
    "tildeb_bis = mydft @ b\n",
    "tildeb_bis[np.abs(tildeb_bis) < 1e-4] = 0"
   ]
  },
  {
   "cell_type": "markdown",
   "metadata": {},
   "source": [
    "# Constructing the Quantum Observable\n",
    "We define the observable operator for the VQE to minimize:\n",
    "\n",
    "$O=A^\\dagger\\left(I-\\ket{b}\\bra{b}\\right)A$\n",
    "\n",
    "This is the quantum observable for $T_{new}$, or better for $\\ket{x}$ (normalized), such that:\n",
    "\n",
    "$\\bra{x}O\\ket{x} \\xrightarrow{} 0$ (minimum) \n",
    "\n",
    "because $A^\\dagger = f C^\\dagger$, and then\n",
    "$O=f^2 C^\\dagger \\left(I-\\ket{b}\\bra{b}\\right) C$\n",
    "which has the same minimum for $\\ket{x}$.\n",
    "\n",
    "Ref: PHYSICAL REVIEW A 107, 052422 (2023)\n",
    "Depth analysis of variational quantum algorithms for the heat equation"
   ]
  },
  {
   "cell_type": "code",
   "execution_count": 10,
   "metadata": {},
   "outputs": [],
   "source": [
    "O = np.eye(N) - np.outer(b, b)\n",
    "O = C.T @ O @ C  # O = C† (I - |b⟩⟨b|) C\n",
    "observable_1 = SparsePauliOp.from_operator(O)"
   ]
  },
  {
   "cell_type": "code",
   "execution_count": null,
   "metadata": {},
   "outputs": [],
   "source": [
    "# Optional: check in Fourier space\n",
    "FOF = mydft @ O @ mydft.conj().T\n",
    "observable_2 = SparsePauliOp.from_operator(FOF)\n",
    "\n",
    "DFOF = np.diag(np.diag(FOF))\n",
    "observable_3 = SparsePauliOp.from_operator(DFOF)"
   ]
  },
  {
   "cell_type": "code",
   "execution_count": null,
   "metadata": {},
   "outputs": [],
   "source": [
    "# Eigenvalues of O give insight into the minimum\n",
    "eigenvalues = eigvalsh(O)\n",
    "print(eigenvalues)"
   ]
  },
  {
   "cell_type": "markdown",
   "metadata": {},
   "source": [
    "# Variational Quantum Eigensolver (VQE)\n",
    "We use `Qiskit`'s estimator primitive to compute the expectation value of our observable under a parameterized ansatz."
   ]
  },
  {
   "cell_type": "markdown",
   "metadata": {},
   "source": [
    "## Loss/cost function for VQE\n",
    "A custom cost function is defined for quantum optimization using `Qiskit`'s Estimator.\n",
    "It returns the expectation value of the observable for a given ansatz and parameter set."
   ]
  },
  {
   "cell_type": "code",
   "execution_count": 13,
   "metadata": {},
   "outputs": [],
   "source": [
    "def cost_func_vqe(params, ansatz, hamiltonian, estimator):\n",
    "    \"\"\"Return estimate of energy from estimator\n",
    "\n",
    "    Parameters:\n",
    "        params (ndarray): Array of ansatz parameters\n",
    "        ansatz (QuantumCircuit): Parameterized ansatz circuit\n",
    "        hamiltonian (SparsePauliOp): Operator representation of Hamiltonian\n",
    "        estimator (Estimator): Estimator primitive instance\n",
    "\n",
    "    Returns:\n",
    "        float: Energy estimate\n",
    "    \"\"\"\n",
    "    pub = (ansatz, hamiltonian, params)\n",
    "    cost = estimator.run([pub]).result()[0].data.evs\n",
    "\n",
    "    return cost"
   ]
  },
  {
   "cell_type": "markdown",
   "metadata": {},
   "source": [
    "## Ansatz\n",
    "We define the parameterized quantum circuit (ansatz) using `EfficientSU2` for a good tradeoff between expressiveness and efficiency.\n",
    "\n",
    "Optionally, a custom `TwoLocal` ansatz can be used.\n",
    "\n",
    "The number of parameters and circuit structure are displayed."
   ]
  },
  {
   "cell_type": "code",
   "execution_count": null,
   "metadata": {},
   "outputs": [],
   "source": [
    "num_qubits = n\n",
    "raw_ansatz = EfficientSU2(num_qubits) # best HEURISTICS ansatz\n",
    "raw_ansatz.decompose().draw('mpl')"
   ]
  },
  {
   "cell_type": "markdown",
   "metadata": {},
   "source": [
    "Some alternative ansatz are presented here:"
   ]
  },
  {
   "cell_type": "code",
   "execution_count": null,
   "metadata": {},
   "outputs": [],
   "source": [
    "# from qiskit import QuantumCircuit\n",
    "#from qiskit.circuit.library import efficient_su2, TwoLocal\n",
    "\n",
    "# (1) most RATIONAL ansatz\n",
    "#reference_circuit = QuantumCircuit(num_qubits)\n",
    "#reference_circuit.x(0)\n",
    "#variational_form = TwoLocal(\n",
    "#    num_qubits,\n",
    "#    rotation_blocks=[\"ry\"],\n",
    "#    entanglement_blocks=\"cx\",\n",
    "#    entanglement=\"linear\",\n",
    "#    reps=2,\n",
    "#)\n",
    "#raw_ansatz = reference_circuit.compose(variational_form)\n",
    "\n",
    "# (2) best HEURISTICS ansatz and FASTER\n",
    "#raw_ansatz = efficient_su2(num_qubits)"
   ]
  },
  {
   "cell_type": "markdown",
   "metadata": {},
   "source": [
    "## Quantum Simulation Setup\n",
    "We instantiate `StatevectorEstimator` and `StatevectorSampler` from Qiskit.\n",
    "\n",
    "Initial parameter values $\\theta_0$ are set to ones."
   ]
  },
  {
   "cell_type": "code",
   "execution_count": 16,
   "metadata": {},
   "outputs": [],
   "source": [
    "estimator = Estimator()\n",
    "sampler = Sampler()"
   ]
  },
  {
   "cell_type": "code",
   "execution_count": 17,
   "metadata": {},
   "outputs": [],
   "source": [
    "theta0 = np.ones(raw_ansatz.num_parameters)"
   ]
  },
  {
   "cell_type": "markdown",
   "metadata": {},
   "source": [
    "## Quantum minimization / VQE optimization\n",
    "\n",
    "We minimize the cost function using `SciPy`'s minimize with the `COBYLA` algorithm:\n",
    "\n",
    "Optimizes ansatz parameters to minimize $\\bra{x}O\\ket{x}$.\n",
    "\n",
    "The result gives optimized parameters and circuit.\n",
    "\n",
    "We visualize the output probability distribution and extract amplitudes as the quantum solution x.\n",
    "\n",
    "See [here](https://learning.quantum.ibm.com/tutorial/variational-quantum-eigensolver) for more details.\n",
    "\n",
    "Some experimental insights from Pietro:\n",
    "\n",
    "Type of solver should be one of\n",
    "- `Nelder-Mead`, nfev: 2461 (tol = 1e-2)\n",
    "- `Powell`, nfev: 10027 (tol = 1e-2), disaster\n",
    "- `CG`, nfev: 1600 (tol = 1e-2)\n",
    "- `BFGS`, nfev: 650 (tol = 1e-2), not bad\n",
    "- `L-BFGS-B`, nfev: 675 (tol = 1e-3), not bad (!)\n",
    "- `TNC`, nfev: 2400 (tol = 1e-2)\n",
    "- `COBYLA`, nfev: 839 (tol = 1e-3), nfev: 552 (tol = 1e-2), BEST BEST BEST (!)\n",
    "- `COBYQA`, nfev: 592 (tol = 1e-2), not bad\n",
    "- `SLSQP`, nfev: 662 (tol = 1e-3), not bad\n",
    "- `trust-constr`, nfev: 850 (tol = 1e-2), not bad\n",
    "\n",
    "- `Newton-CG`, Jacobian is required for Newton-CG method\n",
    "- `dogleg`, Jacobian is required for dogleg minimization\n",
    "- `trust-ncg`, Jacobian is required for Newton-CG trust-region minimization\n",
    "- `trust-exact`, Jacobian is required for Newton-CG trust-region minimization\n",
    "- `trust-krylov`, Jacobian is required for Newton-CG trust-region minimization"
   ]
  },
  {
   "cell_type": "code",
   "execution_count": null,
   "metadata": {},
   "outputs": [],
   "source": [
    "start_time = time.time()\n",
    "\n",
    "result = minimize(\n",
    "    cost_func_vqe,\n",
    "    theta0,\n",
    "    args=(raw_ansatz, observable_1, estimator),\n",
    "    method=\"COBYLA\",\n",
    "    tol=1e-3,\n",
    "    options={\"maxiter\": 1000000, \"disp\": True}\n",
    ")\n",
    "print(result)\n",
    "\n",
    "execution_time = time.time() - start_time\n",
    "print(\"Execution time (s):\", execution_time)"
   ]
  },
  {
   "cell_type": "markdown",
   "metadata": {},
   "source": [
    "## Quantum results"
   ]
  },
  {
   "cell_type": "code",
   "execution_count": null,
   "metadata": {},
   "outputs": [],
   "source": [
    "# Reconstruct the final state from optimized parameters\n",
    "theta = result.x\n",
    "ansatz = raw_ansatz.assign_parameters(theta)\n",
    "ansatz.decompose().draw('mpl')"
   ]
  },
  {
   "cell_type": "code",
   "execution_count": null,
   "metadata": {},
   "outputs": [],
   "source": [
    "# Get ideal distribution\n",
    "ideal_distribution = Statevector.from_instruction(ansatz).probabilities_dict()\n",
    "plot_histogram(ideal_distribution)"
   ]
  },
  {
   "cell_type": "code",
   "execution_count": null,
   "metadata": {},
   "outputs": [],
   "source": [
    "# Recover the amplitudes\n",
    "y = np.real(list(ideal_distribution.values()))\n",
    "x = np.sqrt(y)\n",
    "\n",
    "plt.plot(b, label='b')\n",
    "plt.plot(x_th, label='x_th (FD)', linestyle='dashed')\n",
    "plt.plot(x, 'bo', label='x (quantum)')\n",
    "plt.legend()\n",
    "plt.xlabel('spatial mesh')\n",
    "plt.ylabel('normalized temperature')\n",
    "plt.show()"
   ]
  },
  {
   "cell_type": "markdown",
   "metadata": {},
   "source": [
    "## Post-processing & De-normalization\n",
    "Recover temperature in original units from normalized quantum solution using mean-scaling.\n",
    "\n",
    "Compare classical $T_{new}$, quantum $T_{new,q}$, and original $T_{old}$."
   ]
  },
  {
   "cell_type": "code",
   "execution_count": null,
   "metadata": {},
   "outputs": [],
   "source": [
    "x_mean = statistics.mean(x)\n",
    "T_mean = statistics.mean(T_old)\n",
    "scale = T_mean / x_mean\n",
    "print(f\"\\nscale = {scale}\")\n",
    "\n",
    "T_new_q = x * scale"
   ]
  },
  {
   "cell_type": "code",
   "execution_count": null,
   "metadata": {},
   "outputs": [],
   "source": [
    "plt.plot(T_old, label='T_old (t=0)')\n",
    "plt.plot(T_new, label='T_new (FD)', linestyle='dashed')\n",
    "plt.plot(T_new_q, 'bo', label='T_new_q (quantum)')\n",
    "plt.legend()\n",
    "plt.xlabel('spatial mesh')\n",
    "plt.ylabel('temperature')\n",
    "plt.show()"
   ]
  },
  {
   "cell_type": "markdown",
   "metadata": {},
   "source": [
    "# Summary\n",
    "We’ve completed a full cycle:\n",
    "1. Simulated the heat equation classically.\n",
    "2. Reformulated it as a quantum optimization problem.\n",
    "3. Used VQE with an ansatz to minimize a cost observable.\n",
    "4. Compared the quantum and classical solutions.\n",
    "5. Reconstructed physical units from quantum results."
   ]
  }
 ],
 "metadata": {
  "kernelspec": {
   "display_name": "quantum-env",
   "language": "python",
   "name": "python3"
  },
  "language_info": {
   "codemirror_mode": {
    "name": "ipython",
    "version": 3
   },
   "file_extension": ".py",
   "mimetype": "text/x-python",
   "name": "python",
   "nbconvert_exporter": "python",
   "pygments_lexer": "ipython3",
   "version": "3.12.0"
  }
 },
 "nbformat": 4,
 "nbformat_minor": 2
}
