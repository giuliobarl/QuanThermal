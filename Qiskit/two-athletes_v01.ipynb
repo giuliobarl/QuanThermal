{
 "cells": [
  {
   "cell_type": "markdown",
   "metadata": {},
   "source": [
    "# Two-Athlete Strategy Example\n",
    "\n",
    "This notebook demonstrates a simple quantum circuit to model a strategy involving two athletes:\n",
    "- **Athlete 0** is less likely to win (20%).\n",
    "- **Athlete 1** is more likely to win (80%).\n",
    "\n",
    "The model uses rotation gates to encode their probabilities and a CNOT gate to simulate a strategy\n",
    "where the stronger athlete helps the weaker one through quantum entanglement.\n"
   ]
  },
  {
   "cell_type": "code",
   "execution_count": 1,
   "metadata": {},
   "outputs": [],
   "source": [
    "import numpy as np\n",
    "\n",
    "from qiskit import transpile, QuantumCircuit\n",
    "from qiskit.providers.basic_provider import BasicSimulator\n",
    "from qiskit.visualization import plot_histogram"
   ]
  },
  {
   "cell_type": "markdown",
   "metadata": {},
   "source": [
    "## Define winning probabilities\n",
    "\n",
    "Convert classical win probabilities into quantum rotation angles using:\n",
    "$\\varphi = 2\\arcsin(\\sqrt{p})$"
   ]
  },
  {
   "cell_type": "code",
   "execution_count": null,
   "metadata": {},
   "outputs": [],
   "source": [
    "varphi0 = 2 * np.arcsin(np.sqrt(0.2))  # Athlete 0: 20% chance of winning\n",
    "varphi1 = 2 * np.arcsin(np.sqrt(0.8))  # Athlete 1: 80% chance of winning\n",
    "\n",
    "print(f\"varphi0 (bad athlete): {varphi0}\")\n",
    "print(f\"varphi1 (good athlete): {varphi1}\")"
   ]
  },
  {
   "cell_type": "markdown",
   "metadata": {},
   "source": [
    "## Create quantum circuit\n",
    "- Apply `ry` rotations to encode each athlete's probability.\n",
    "- Use a `cx` (CNOT) gate to simulate a support mechanism: Athlete 1 helps Athlete 0.\n",
    "- Measure both qubits."
   ]
  },
  {
   "cell_type": "code",
   "execution_count": null,
   "metadata": {},
   "outputs": [],
   "source": [
    "circuit = QuantumCircuit(2)\n",
    "circuit.ry(varphi0, 0)  # Encode athlete 0's win probability\n",
    "circuit.ry(varphi1, 1)  # Encode athlete 1's win probability\n",
    "circuit.cx(1, 0)        # Entangle: athlete 1 helps athlete 0\n",
    "circuit.measure_all()\n",
    "circuit.draw('mpl')"
   ]
  },
  {
   "cell_type": "markdown",
   "metadata": {},
   "source": [
    "## Run simulation\n",
    "\n",
    "Use Qiskit's `BasicSimulator` to simulate the circuit."
   ]
  },
  {
   "cell_type": "code",
   "execution_count": null,
   "metadata": {},
   "outputs": [],
   "source": [
    "backend = BasicSimulator()\n",
    "transpiled_circuit = transpile(circuit, backend=backend)\n",
    "job = backend.run(transpiled_circuit.reverse_bits(), shots=100000)\n",
    "counts = job.result().get_counts()\n",
    "print(counts)"
   ]
  },
  {
   "cell_type": "markdown",
   "metadata": {},
   "source": [
    "## Visualize measurement results"
   ]
  },
  {
   "cell_type": "code",
   "execution_count": null,
   "metadata": {},
   "outputs": [],
   "source": [
    "plot_histogram(counts)"
   ]
  }
 ],
 "metadata": {
  "kernelspec": {
   "display_name": "quantum-env",
   "language": "python",
   "name": "python3"
  },
  "language_info": {
   "codemirror_mode": {
    "name": "ipython",
    "version": 3
   },
   "file_extension": ".py",
   "mimetype": "text/x-python",
   "name": "python",
   "nbconvert_exporter": "python",
   "pygments_lexer": "ipython3",
   "version": "3.12.0"
  }
 },
 "nbformat": 4,
 "nbformat_minor": 2
}
